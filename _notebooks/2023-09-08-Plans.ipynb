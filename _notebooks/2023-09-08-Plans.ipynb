{
 "cells": [
  {
   "cell_type": "raw",
   "metadata": {},
   "source": [
    "Plans for the week\n",
    "|Day| Plans |\n",
    "|---|-------|\n",
    "| Monday | Rweview CSSE resources to learn the basic of Javascript, DOM, etc. |\n",
    "| Tuesday | Edit style, add style options. |\n",
    "| Wednesday |"
   ]
  },
  {
   "cell_type": "markdown",
   "metadata": {},
   "source": [
    "<html>\n",
    "<strong>Bolded Text</strong>\n",
    "\n",
    "<img alt=\"puppy\" src=\"https://encrypted-tbn0.gstatic.com/images?q=tbn:ANd9GcRHwkknYTrq3EbUNNPP4sUU0LJMQpBCy2nUDQ&usqp=CAU\">\n",
    "\n",
    "<button>click me</button>\n",
    "</html>"
   ]
  }
 ],
 "metadata": {
  "kernelspec": {
   "display_name": "Python 3",
   "language": "python",
   "name": "python3"
  },
  "language_info": {
   "codemirror_mode": {
    "name": "ipython",
    "version": 3
   },
   "file_extension": ".py",
   "mimetype": "text/x-python",
   "name": "python",
   "nbconvert_exporter": "python",
   "pygments_lexer": "ipython3",
   "version": "3.10.12"
  },
  "orig_nbformat": 4
 },
 "nbformat": 4,
 "nbformat_minor": 2
}
