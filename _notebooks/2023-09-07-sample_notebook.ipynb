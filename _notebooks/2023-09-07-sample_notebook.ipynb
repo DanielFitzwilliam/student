{
 "cells": [
  {
   "cell_type": "markdown",
   "metadata": {},
   "source": [
    "---\n",
    "toc: true\n",
    "comments: false\n",
    "layout: post\n",
    "title: sample notebook practice\n",
    "description: testing out jupyter notebooks and html tags\n",
    "courses: {'plans': {week: 3}}\n",
    "type: plans\n",
    "---"
   ]
  },
  {
   "cell_type": "markdown",
   "metadata": {},
   "source": [
    "<html>\n",
    "<head>\n",
    "    <title>Simple HTML Table</title>\n",
    "</head>\n",
    "<body>\n",
    "    <h1>Table Table</h1>\n",
    "\n",
    "    <!-- Start of the table -->\n",
    "    <table border=\"1\">\n",
    "        <!-- Table header row -->\n",
    "        <thead>\n",
    "            <tr>\n",
    "                <th> Table </th>\n",
    "                <th> Material </th>\n",
    "                <th> Approximate Height </th>\n",
    "                <th> Rating </th>\n",
    "            </tr>\n",
    "        </thead>\n",
    "        <!-- Table data rows -->\n",
    "        <tbody>\n",
    "            <tr>\n",
    "                <td> News Room Table </td>\n",
    "                <td> Wood </td>\n",
    "                <td>  2.5 ft </td>\n",
    "                <td> 6/10 too short, annoying bars </td>\n",
    "            </tr>\n",
    "            <tr>\n",
    "                <td> Standard Del Norte Table </td>\n",
    "                <td> Wood </td>\n",
    "                <td> 3.5 ft </td>\n",
    "                <td> 9/10 solid table, but side ratio is too long </td>\n",
    "            </tr>\n",
    "            <tr>\n",
    "                <td> home Desk </td>\n",
    "                <td> Wood, Glass </td>\n",
    "                <td> 3.5 ft </td>\n",
    "                <td> 8/10 too small, but nice drawers and glass surface </td>\n",
    "            </tr>\n",
    "        </tbody>\n",
    "    </table>\n",
    "    <!-- End of the table -->\n",
    "</body>\n",
    "</html>\n"
   ]
  }
 ],
 "metadata": {
  "language_info": {
   "name": "python"
  },
  "orig_nbformat": 4
 },
 "nbformat": 4,
 "nbformat_minor": 2
}
