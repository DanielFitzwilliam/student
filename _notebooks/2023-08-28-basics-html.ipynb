{
 "cells": [
  {
   "cell_type": "markdown",
   "metadata": {},
   "source": [
    "---\n",
    "layout: post\n",
    "hide: True\n",
    "title: Basics of HTML Guide\n",
    "description: An introduction to basic HTML, and resources to learn more.\n",
    "type: ccc\n",
    "permalink: /basics/html\n",
    "author: Rohan Juneja\n",
    "---"
   ]
  },
  {
   "cell_type": "raw",
   "metadata": {},
   "source": [
    "{% include nav_basics.html %}\n"
   ]
  },
  {
   "cell_type": "raw",
   "metadata": {},
   "source": [
    "\n",
    "<style>\n",
    "#button {\n",
    "  text-align: center;\n",
    "}\n",
    "</style>\n",
    "\n",
    "<br>\n",
    "<div style=\"text-align:center\">\n",
    "    <a href=\"https://www.lingoace.com/blog/18-chinese-stories-to-nurture-your-childs-love-for-the-language-and-culture\">Chinese Story</a>\n",
    "    <br>\n",
    "    <a href=\"https://www.youtube.com/watch?v=K63R4vMwlDY\">Song</a>\n",
    "    <p>Two hyperlinks that redirects you to a story about a boy who stays at home too long in chinese and a song in chinese</p>\n",
    "</div>"
   ]
  }
 ],
 "metadata": {
  "kernelspec": {
   "display_name": "Python 3",
   "language": "python",
   "name": "python3"
  },
  "language_info": {
   "name": "python",
   "version": "3.9.12"
  },
  "orig_nbformat": 4
 },
 "nbformat": 4,
 "nbformat_minor": 2
}
