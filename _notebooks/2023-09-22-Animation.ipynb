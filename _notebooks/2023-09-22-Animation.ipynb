{
 "cells": [
  {
   "cell_type": "raw",
   "metadata": {},
   "source": [
    "---\n",
    "toc: false\n",
    "comments: false\n",
    "layout: post\n",
    "title: Animation\n",
    "description: It feels like I'm finally 'coding proper'\n",
    "courses: { plans: {week: 2} }\n",
    "type: tangibles\n",
    "blog: false\n",
    "---"
   ]
  }
 ],
 "metadata": {
  "language_info": {
   "name": "python"
  },
  "orig_nbformat": 4
 },
 "nbformat": 4,
 "nbformat_minor": 2
}
