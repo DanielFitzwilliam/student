{
 "cells": [
  {
   "cell_type": "markdown",
   "metadata": {},
   "source": [
    "---\n",
    "toc: true\n",
    "comments: true\n",
    "layout: post\n",
    "title: Individual Final Blog\n",
    "description: How I made an Enemy for our CSSE group's project.\n",
    "courses: { plans: {week: 12} }\n",
    "type: hacks\n",
    "blog: true\n",
    "---"
   ]
  },
  {
   "cell_type": "markdown",
   "metadata": {},
   "source": [
    "## Enemy setup\n",
    "The first thing I had to do to make the enemy sprite was to create a canvas and a new object class called \"Enemy\". Then, I had to draw the enemy to the canvas. This means I had to understand the object oriented programming (OOP) first put into place by one of my groupmates. As I understand it (which is no very well), the main principles of OOP are object classes, functions and exporting/importing.\n",
    "### Object Classes\n",
    "Object classes have parameters that are passed in when a new instance of that object is created. These parameters can be used to create polymorphic behavior, where two different instances of the same object behave differently based on the parameters that are passed into them. This is useful for games if you have multiple types of enemies, and you can have parameters for different stats like health, speed, and starting location. This process can make code very efficient and also make development much easier.\n",
    "### Functions\n",
    "Functions are similar to object classes in that they are defined once and can be called throughout the code. They can also have a variable passed into them that outputs a different value, much like mathematical functions. These are good for when an action needs to be repeated multiple times.\n",
    "### Import / Export\n",
    "Object classes and functions cannot be referenced from a different file. In order to use functions/classes/variables from another file they need to be exported from their original file and then imported to the new file. The benefit of this is that different parts of the code can be in different files and still work together. That way, multiple people can work on different files at the same time and not worry about merge issues. It also makes it easier to organize code because all of the related parts are grouped together."
   ]
  },
  {
   "cell_type": "markdown",
   "metadata": {},
   "source": [
    "## Enemy Behavior\n",
    "Compared to OOP, the logic for the enemy behavior is a lot simpler and easier to understand. This is where my experience with Scratch coding finally came in handy. Once I was able to figure out how to create three new parameters for the enemy sprite, I could get started. First, I defined a variable called \"domain\". I used this as the distance the enemy would travel before turning around. I also defined a variable called \"domainOffset\". This variable reported the x position of the enemy relative to its domain. The last variable was \"enemySpeed\" which defined how far the enemy would move every game update. Here is the code which controls the enemy movement, which is run for every instance of the game loop.\n",
    "(Note that \"x\", which was already defined since the \"Enemy\" class is an extension of the \"GameObject\" class, is the enemy's x position on the screen.)"
   ]
  },
  {
   "cell_type": "code",
   "execution_count": 3,
   "metadata": {
    "vscode": {
     "languageId": "javascript"
    }
   },
   "outputs": [
    {
     "data": {
      "application/javascript": "this.domainOffset += this.enemySpeed; // \"domainOffset\" essentially works as a timer that counts up every second.\n            if(this.domainOffset > -1 && this.domainOffset < this.domain) { // move right until the timer equals \"domain\"\n                this.x += this.enemySpeed; // move two spaces to the right\n            } else if (this.domainOffset > this.domain && this.domainOffset < this.domain * 2) {\n                this.x -= this.enemySpeed; //move two spaces to the left\n            } else if (this.domainOffset > this.domain * 2) {\n                this.domainOffset = 0; // reset the counter back to 0\nif(score===10 && this.enemySpeed===4) {\n    this.enemySpeed += 4;\n};\n",
      "text/plain": [
       "<IPython.core.display.Javascript object>"
      ]
     },
     "metadata": {},
     "output_type": "display_data"
    }
   ],
   "source": [
    "this.domainOffset += this.enemySpeed; // \"domainOffset\" essentially works as a timer that counts up every second.\n",
    "            if(this.domainOffset > -1 && this.domainOffset < this.domain) { // move right until the timer equals \"domain\"\n",
    "                this.x += this.enemySpeed; // move two spaces to the right\n",
    "            } else if (this.domainOffset > this.domain && this.domainOffset < this.domain * 2) {\n",
    "                this.x -= this.enemySpeed; //move two spaces to the left\n",
    "            } else if (this.domainOffset > this.domain * 2) {\n",
    "                this.domainOffset = 0; // reset the counter back to 0\n",
    "            }\n",
    "if(score===10 && this.enemySpeed===4) {\n",
    "    this.enemySpeed += 4;\n",
    "};"
   ]
  },
  {
   "cell_type": "markdown",
   "metadata": {},
   "source": [
    "## Retrospective\n",
    "I think that creating this enemy sprite, my main contribution to this project, was a very helpful introductory experience into javascript code and the programming workflow. I have learned a lot about how websites are made. I am proud of my work, and I'm excited for the next trimester of this class now that I have some basic skills. I feel like I'm ready to take on bigger challenges.\n",
    "\n",
    "Below is the entire code if anyone is interested, but most of it is OOP, which in my opinion is pretty much the same across different projects. I think the more personalized and creative coding was already showed off above, and the OOP is more like following a checklist. Also, some of the code was not written by me."
   ]
  },
  {
   "cell_type": "code",
   "execution_count": null,
   "metadata": {
    "vscode": {
     "languageId": "javascript"
    }
   },
   "outputs": [],
   "source": [
    "import Character from './Character.js';\n",
    "import { incrementScore, score } from './Score.js';\n",
    "\n",
    "// Creates animation for the enemy\n",
    "const enemyAnimation = {\n",
    "    scale: 0.15,\n",
    "    width: 798,\n",
    "    height: 735,\n",
    "    attack: { row: 3, frames: 9, idleFrame: { column: 7, frames: 0 } },\n",
    "};\n",
    "\n",
    "//Variables to Delay Animation timing\n",
    "let frameUpdateDelay = 2;\n",
    "let frameCounter = 0;\n",
    "\n",
    "// Enemy class\n",
    "export class Enemy extends Character {\n",
    "    constructor(enemyCanvas, image, speedRatio, domain, domainOffset) {\n",
    "        //Defines Dimension of Enemy Hitbox\n",
    "        const hitbox = {\n",
    "            width: 50,\n",
    "            height: 50,\n",
    "        };\n",
    "\n",
    "        super (enemyCanvas, image, speedRatio, enemyAnimation.width, enemyAnimation.height, enemyAnimation.scale);\n",
    "        \n",
    "        const enemyCanvasStyle =  document.getElementById(\"enemies\"); //Used for reverse scaling of the canvas to make the enemy turn left \n",
    "        this.enemyCanvasStyle = enemyCanvasStyle\n",
    "\n",
    "        //Hitbox is now a property of enemy\n",
    "        this.hitbox = hitbox;\n",
    "\n",
    "        this.domain = domain; // Sets the distance that the enemy will walk before turning around\n",
    "        this.domainOffset = domainOffset; // Sets the distance that the enemy will walk before turning around\n",
    "        };\n",
    "\n",
    "        //Updates hitbox to match enemy position\n",
    "        updateHitbox() {\n",
    "            this.hitbox.x = this.x\n",
    "            this.hitbox.y = this.y\n",
    "            //console.log('Hitbox:', this.hitbox); //logs the position of the hitbox\n",
    "        }\n",
    "\n",
    "        setDomain(domain){\n",
    "            this.domain = domain;\n",
    "        };\n",
    "\n",
    "        setDomainOffset(domainOffset){\n",
    "            this.domainOffset = domainOffset;\n",
    "        };\n",
    "        \n",
    "        //update the enemy every repeat of the game loop\n",
    "        update() {\n",
    "            this.domainOffset += this.enemySpeed; // \"domainOffset\" essentially works as a timer that counts up every second.\n",
    "            if(this.domainOffset > -1 && this.domainOffset < this.domain) { // move right until the timer equals \"domain\"\n",
    "                this.x += this.enemySpeed; // move two spaces to the right\n",
    "                this.enemyCanvasStyle.style.transform = 'scaleX(1)'; //makes enemy face right\n",
    "            } else if (this.domainOffset > this.domain && this.domainOffset < this.domain * 2) {\n",
    "                this.x -= this.enemySpeed; //move two spaces to the left\n",
    "                this.enemyCanvasStyle.style.transform = 'scaleX(-1)'; //makes enemy face left\n",
    "            } else if (this.domainOffset > this.domain * 2) {\n",
    "                this.domainOffset = 0; // reset the counter back to 0\n",
    "                incrementScore(); //add 5 to the score\n",
    "            //If Enemy reaches right side, add 5 to the score\n",
    "            } else if (this.domainOffset === this.domain) {\n",
    "                incrementScore();\n",
    "            }\n",
    "            if(score===10 && this.enemySpeed===4) {\n",
    "                this.enemySpeed += 4;\n",
    "                console.log(this.enemySpeed)\n",
    "            };\n",
    "\n",
    "             //Delays Frame Animation\n",
    "            frameCounter++\n",
    "            if (frameCounter >= frameUpdateDelay) {\n",
    "                //Resets FrameCount\n",
    "                frameCounter = 0;\n",
    "                \n",
    "                //Updates Animation\n",
    "                if (this.frameX < this.maxFrame) {\n",
    "                    this.frameX++;\n",
    "                } else {\n",
    "                    this.frameX = 0;\n",
    "                }\n",
    "            }\n",
    "        };\n",
    "};\n",
    "\n",
    "// Initializes the enemy \n",
    "export function initEnemy(_canvasId, image, gameSpeed, speedRatio, domain, domainOffset, enemySpeed) {\n",
    "    var enemy = new Enemy(_canvasId, image, gameSpeed, speedRatio, domain, domainOffset, enemySpeed);\n",
    "        enemy.setFrameY(enemyAnimation['attack'].row);\n",
    "        enemy.setFrameX(enemyAnimation['attack'].column);\n",
    "        enemy.setMaxFrame(enemyAnimation['attack'].frames);\n",
    "        enemy.setX(1200); // Set an initial X position for the enemy\n",
    "        enemy.setY(520); // Set an initial Y position for the enemy\n",
    "        enemy.setDomain(1200); // Sets the distance that the enemy will walk before turning around\n",
    "        enemy.setDomainOffset(1200); // The current x location of the enemy relative to its domain\n",
    "        enemy.enemySpeed = 4; // the speed of the enemy\n",
    "    return enemy;\n",
    "};\n",
    "\n",
    "export default Enemy;"
   ]
  }
 ],
 "metadata": {
  "kernelspec": {
   "display_name": "Python 3",
   "language": "python",
   "name": "python3"
  },
  "language_info": {
   "codemirror_mode": {
    "name": "ipython",
    "version": 3
   },
   "file_extension": ".py",
   "mimetype": "text/x-python",
   "name": "python",
   "nbconvert_exporter": "python",
   "pygments_lexer": "ipython3",
   "version": "3.10.12"
  }
 },
 "nbformat": 4,
 "nbformat_minor": 2
}
